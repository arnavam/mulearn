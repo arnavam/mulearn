{
 "cells": [
  {
   "cell_type": "code",
   "execution_count": 142,
   "id": "025ee961",
   "metadata": {},
   "outputs": [],
   "source": [
    "import numpy as np\n"
   ]
  },
  {
   "cell_type": "code",
   "execution_count": 143,
   "id": "ed67a7b6",
   "metadata": {},
   "outputs": [],
   "source": [
    "a= np.array(1)\n",
    "b= np.array(-6)\n",
    "c= np.array(11)\n",
    "d= np.array(6)\n",
    "\n",
    "#function we need to predict\n",
    "def loss_function(x): return a*x**3 + b*x**2+c*x + d\n",
    "\n",
    "def relu(x):\n",
    "    return np.maximum(0, x)\n",
    "\n",
    "\n",
    "learning_rate = .0001\n",
    "epochs =100\n",
    "\n",
    "x= np.random.rand()\n"
   ]
  },
  {
   "cell_type": "markdown",
   "id": "ff2ad8a6",
   "metadata": {},
   "source": [
    "**lets say what we want to find is root of loss funtion x and it is the parameter.**\n",
    "\n",
    "**a , b , c , d are the input features**\n",
    "**then**"
   ]
  },
  {
   "cell_type": "code",
   "execution_count": 145,
   "id": "a351e7ae",
   "metadata": {},
   "outputs": [
    {
     "name": "stdout",
     "output_type": "stream",
     "text": [
      "the approx value of x is: -0.4177327235998188\n"
     ]
    }
   ],
   "source": [
    "\n",
    "for epoch in range(epochs):\n",
    "  value = loss_function(x)\n",
    "  gradient  = (3*a*x**2 + 2*b*x+ c)*value*2\n",
    "  x -=  learning_rate * gradient\n",
    "\n",
    "print('the approx value of x is:',x)\n"
   ]
  },
  {
   "cell_type": "code",
   "execution_count": 146,
   "id": "2d36d4ff",
   "metadata": {},
   "outputs": [
    {
     "name": "stdout",
     "output_type": "stream",
     "text": [
      "the approx value of x is: -0.43478832298198317\n"
     ]
    }
   ],
   "source": [
    "#after applying relu\n",
    "\n",
    "\n",
    "for epoch in range(epochs):\n",
    "  value = relu(loss_function(x))\n",
    "  gradient  = (3*a*x**2 + 2*b*x+ c)*value*2\n",
    "  x -=  learning_rate * gradient\n",
    "\n",
    "print('the approx value of x is:',x)\n"
   ]
  },
  {
   "cell_type": "markdown",
   "id": "2c4e1979",
   "metadata": {},
   "source": [
    "solution using sympy"
   ]
  },
  {
   "cell_type": "code",
   "execution_count": 147,
   "id": "c3788dc5",
   "metadata": {},
   "outputs": [
    {
     "name": "stdout",
     "output_type": "stream",
     "text": [
      "[2 - 1/((-1/2 - sqrt(3)*I/2)*(3*sqrt(2913) + 162)**(1/3)) - (-1/2 - sqrt(3)*I/2)*(3*sqrt(2913) + 162)**(1/3)/3, 2 - (-1/2 + sqrt(3)*I/2)*(3*sqrt(2913) + 162)**(1/3)/3 - 1/((-1/2 + sqrt(3)*I/2)*(3*sqrt(2913) + 162)**(1/3)), -(3*sqrt(2913) + 162)**(1/3)/3 - 1/(3*sqrt(2913) + 162)**(1/3) + 2]\n"
     ]
    }
   ],
   "source": [
    "from sympy import Symbol, solve\n",
    "\n",
    "X = Symbol('x')\n",
    "equation = a*X**3 + b*X**2 + c*X + d\n",
    "solutions = solve(equation, X)\n",
    "print(solutions)"
   ]
  }
 ],
 "metadata": {
  "kernelspec": {
   "display_name": "kaggle",
   "language": "python",
   "name": "python3"
  },
  "language_info": {
   "codemirror_mode": {
    "name": "ipython",
    "version": 3
   },
   "file_extension": ".py",
   "mimetype": "text/x-python",
   "name": "python",
   "nbconvert_exporter": "python",
   "pygments_lexer": "ipython3",
   "version": "3.10.16"
  }
 },
 "nbformat": 4,
 "nbformat_minor": 5
}
